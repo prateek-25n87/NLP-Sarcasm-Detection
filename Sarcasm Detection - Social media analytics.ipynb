{
 "cells": [
  {
   "cell_type": "markdown",
   "metadata": {},
   "source": [
    "# Sarcasm Detection - Social media analytics\n",
    "\n",
    "**CONTEXT**: Past studies in Sarcasm Detection mostly make use of Twitter datasets collected using hashtag based supervision but such datasets are noisy in terms of labels and language. Furthermore, many tweets are replies to other tweets and detecting sarcasm in these requires the availability of contextual tweets.In this hands-on project, the goal is to build a model to detect whether a sentence is sarcastic or not, using Bidirectional LSTMs.\n",
    "\n",
    "**Dataset Description**: News Headlines dataset for Sarcasm Detection. The dataset is collected from two news websites, theonion.com and huffingtonpost.com. This new dataset has the following advantages over the existing Twitter datasets: Since news headlines are written by professionals in a formal manner, there are no spelling mistakes and informal usage. This reduces the sparsity and also increases the chance of finding pre-trained embedding. Furthermore, since the sole purpose of TheOnion is to publish sarcastic news, we get high-quality labels with much less noise as compared to Twitter datasets. Unlike tweets that reply to other tweets, the news headlines obtained are self- contained. This would help us in teasing apart the real sarcastic elements Content Each record consists of three attributes:\n",
    "\n",
    "* is_sarcastic: 1 if the record is sarcastic otherwise 0\n",
    "* headline: the headline of the news article\n",
    "* article_link: link to the original news article. Useful in collecting supplementary data\n",
    "\n",
    "**PROJECT OBJECTIVE**: Build a sequential NLP classifier which can use input text parameters to determine the customer sentiments."
   ]
  },
  {
   "cell_type": "markdown",
   "metadata": {},
   "source": [
    "## Import Libraries"
   ]
  },
  {
   "cell_type": "code",
   "execution_count": 4,
   "metadata": {},
   "outputs": [
    {
     "name": "stderr",
     "output_type": "stream",
     "text": [
      "[nltk_data] Downloading package wordnet to\n",
      "[nltk_data]     C:\\Users\\pratmish\\AppData\\Roaming\\nltk_data...\n",
      "[nltk_data]   Package wordnet is already up-to-date!\n",
      "[nltk_data] Downloading package stopwords to\n",
      "[nltk_data]     C:\\Users\\pratmish\\AppData\\Roaming\\nltk_data...\n",
      "[nltk_data]   Package stopwords is already up-to-date!\n"
     ]
    }
   ],
   "source": [
    "import pandas as pd\n",
    "import numpy as np \n",
    "import tensorflow as tf\n",
    "import matplotlib.pyplot as plt\n",
    "%matplotlib inline\n",
    "import seaborn as sns\n",
    "import matplotlib.style as style\n",
    "import random\n",
    "import re\n",
    "\n",
    "import nltk \n",
    "nltk.download('wordnet')\n",
    "nltk.download('stopwords')\n",
    "from nltk.stem import WordNetLemmatizer\n",
    "from nltk.corpus import wordnet as wn\n",
    "from nltk.corpus import stopwords\n",
    "import matplotlib.pyplot as plt\n",
    "import string\n",
    "\n",
    "from tensorflow.keras.layers import Dense, LSTM, Embedding, Dropout, Flatten, Bidirectional, GlobalMaxPool1D\n",
    "from tensorflow.keras.callbacks import EarlyStopping, ModelCheckpoint, ReduceLROnPlateau, TensorBoard\n",
    "from tensorflow.keras.preprocessing.sequence import pad_sequences\n",
    "from tensorflow.keras.preprocessing.text import Tokenizer\n",
    "from tensorflow.keras.models import Model, Sequential\n",
    "from tensorflow.keras.initializers import Constant\n",
    "\n",
    "from sklearn.metrics import classification_report, confusion_matrix\n",
    "from sklearn.model_selection import train_test_split\n",
    "\n",
    "import warnings \n",
    "warnings.filterwarnings('ignore')"
   ]
  },
  {
   "cell_type": "markdown",
   "metadata": {},
   "source": [
    "## Load the data"
   ]
  },
  {
   "cell_type": "code",
   "execution_count": 6,
   "metadata": {},
   "outputs": [
    {
     "name": "stdout",
     "output_type": "stream",
     "text": [
      "Data has 26709 rows and 3 columns. Here are the first five rows of the data...\n"
     ]
    },
    {
     "data": {
      "text/html": [
       "<div>\n",
       "<style scoped>\n",
       "    .dataframe tbody tr th:only-of-type {\n",
       "        vertical-align: middle;\n",
       "    }\n",
       "\n",
       "    .dataframe tbody tr th {\n",
       "        vertical-align: top;\n",
       "    }\n",
       "\n",
       "    .dataframe thead th {\n",
       "        text-align: right;\n",
       "    }\n",
       "</style>\n",
       "<table border=\"1\" class=\"dataframe\">\n",
       "  <thead>\n",
       "    <tr style=\"text-align: right;\">\n",
       "      <th></th>\n",
       "      <th>article_link</th>\n",
       "      <th>headline</th>\n",
       "      <th>is_sarcastic</th>\n",
       "    </tr>\n",
       "  </thead>\n",
       "  <tbody>\n",
       "    <tr>\n",
       "      <th>0</th>\n",
       "      <td>https://www.huffingtonpost.com/entry/versace-b...</td>\n",
       "      <td>former versace store clerk sues over secret 'b...</td>\n",
       "      <td>0</td>\n",
       "    </tr>\n",
       "    <tr>\n",
       "      <th>1</th>\n",
       "      <td>https://www.huffingtonpost.com/entry/roseanne-...</td>\n",
       "      <td>the 'roseanne' revival catches up to our thorn...</td>\n",
       "      <td>0</td>\n",
       "    </tr>\n",
       "    <tr>\n",
       "      <th>2</th>\n",
       "      <td>https://local.theonion.com/mom-starting-to-fea...</td>\n",
       "      <td>mom starting to fear son's web series closest ...</td>\n",
       "      <td>1</td>\n",
       "    </tr>\n",
       "    <tr>\n",
       "      <th>3</th>\n",
       "      <td>https://politics.theonion.com/boehner-just-wan...</td>\n",
       "      <td>boehner just wants wife to listen, not come up...</td>\n",
       "      <td>1</td>\n",
       "    </tr>\n",
       "    <tr>\n",
       "      <th>4</th>\n",
       "      <td>https://www.huffingtonpost.com/entry/jk-rowlin...</td>\n",
       "      <td>j.k. rowling wishes snape happy birthday in th...</td>\n",
       "      <td>0</td>\n",
       "    </tr>\n",
       "  </tbody>\n",
       "</table>\n",
       "</div>"
      ],
      "text/plain": [
       "                                        article_link  \\\n",
       "0  https://www.huffingtonpost.com/entry/versace-b...   \n",
       "1  https://www.huffingtonpost.com/entry/roseanne-...   \n",
       "2  https://local.theonion.com/mom-starting-to-fea...   \n",
       "3  https://politics.theonion.com/boehner-just-wan...   \n",
       "4  https://www.huffingtonpost.com/entry/jk-rowlin...   \n",
       "\n",
       "                                            headline  is_sarcastic  \n",
       "0  former versace store clerk sues over secret 'b...             0  \n",
       "1  the 'roseanne' revival catches up to our thorn...             0  \n",
       "2  mom starting to fear son's web series closest ...             1  \n",
       "3  boehner just wants wife to listen, not come up...             1  \n",
       "4  j.k. rowling wishes snape happy birthday in th...             0  "
      ]
     },
     "execution_count": 6,
     "metadata": {},
     "output_type": "execute_result"
    }
   ],
   "source": [
    "data = pd.read_json('Sarcasm_Headlines_Dataset.json', lines = True)\n",
    "\n",
    "## Shape of the data\n",
    "print(f'Data has {data.shape[0]} rows and {data.shape[1]} columns. Here are the first five rows of the data...')\n",
    "\n",
    "## Display the top 5 rows\n",
    "data.head()"
   ]
  },
  {
   "cell_type": "markdown",
   "metadata": {},
   "source": [
    "### Exploratory Data Analysis"
   ]
  },
  {
   "cell_type": "code",
   "execution_count": 7,
   "metadata": {},
   "outputs": [
    {
     "name": "stdout",
     "output_type": "stream",
     "text": [
      "------------------------------------------------------------\n",
      "Value Counts for `is_sarcastic` label\n",
      "------------------------------------------------------------\n",
      "Is Sarcastic count: 11724 i.e. 44.0%\n",
      "Isn't Sarcastic count: 14985 i.e. 56.0%\n",
      "------------------------------------------------------------\n",
      "Distributon of `is_sarcastic` label\n",
      "------------------------------------------------------------\n"
     ]
    },
    {
     "data": {
      "image/png": "[encoded data removed]",
      "text/plain": [
       "<Figure size 720x432 with 1 Axes>"
      ]
     },
     "metadata": {},
     "output_type": "display_data"
    }
   ],
   "source": [
    "print('--'*30); print('Value Counts for `is_sarcastic` label'); print('--'*30)\n",
    "print(f'Is Sarcastic count: {data[data.is_sarcastic == 1].shape[0]} i.e. {round(data[data.is_sarcastic == 1].shape[0]/data.shape[0]*100, 0)}%')\n",
    "print(f'Isn\\'t Sarcastic count: {data[data.is_sarcastic == 0].shape[0]} i.e. {round(data[data.is_sarcastic == 0].shape[0]/data.shape[0]*100, 0)}%')\n",
    "\n",
    "print('--'*30); print('Distributon of `is_sarcastic` label'); print('--'*30)\n",
    "_ = data['is_sarcastic'].value_counts().plot(kind = 'pie', autopct = '%.0f%%', labels = ['Sarcastic', 'Non-sarcastic'], figsize = (10, 6))"
   ]
  },
  {
   "cell_type": "code",
   "execution_count": 8,
   "metadata": {},
   "outputs": [
    {
     "name": "stdout",
     "output_type": "stream",
     "text": [
      "Analysis of `is_sarcastic` label by news website\n",
      "------------------------------------------------------------\n"
     ]
    },
    {
     "data": {
      "text/html": [
       "<div>\n",
       "<style scoped>\n",
       "    .dataframe tbody tr th:only-of-type {\n",
       "        vertical-align: middle;\n",
       "    }\n",
       "\n",
       "    .dataframe tbody tr th {\n",
       "        vertical-align: top;\n",
       "    }\n",
       "\n",
       "    .dataframe thead th {\n",
       "        text-align: right;\n",
       "    }\n",
       "</style>\n",
       "<table border=\"1\" class=\"dataframe\">\n",
       "  <thead>\n",
       "    <tr style=\"text-align: right;\">\n",
       "      <th></th>\n",
       "      <th>huffingtonpost</th>\n",
       "      <th>theonion</th>\n",
       "    </tr>\n",
       "  </thead>\n",
       "  <tbody>\n",
       "    <tr>\n",
       "      <th>Sarcastic</th>\n",
       "      <td>0</td>\n",
       "      <td>11724</td>\n",
       "    </tr>\n",
       "    <tr>\n",
       "      <th>Non-sarcastic</th>\n",
       "      <td>14985</td>\n",
       "      <td>1</td>\n",
       "    </tr>\n",
       "  </tbody>\n",
       "</table>\n",
       "</div>"
      ],
      "text/plain": [
       "               huffingtonpost  theonion\n",
       "Sarcastic                   0     11724\n",
       "Non-sarcastic           14985         1"
      ]
     },
     "metadata": {},
     "output_type": "display_data"
    }
   ],
   "source": [
    "print('Analysis of `is_sarcastic` label by news website'); print('--'*30)\n",
    "\n",
    "hf = data[data['article_link'].str.contains('huffingtonpost.com')].shape[0]\n",
    "op = data[data['article_link'].str.contains('theonion.com')].shape[0]\n",
    "\n",
    "is_sarcastic_hf = data.loc[(data['article_link'].str.contains('huffingtonpost.com')) & (data['is_sarcastic'] == 1)].shape[0]\n",
    "not_sarcastic_hf = data.loc[(data['article_link'].str.contains('huffingtonpost.com')) & (data['is_sarcastic'] == 0)].shape[0]\n",
    "\n",
    "is_sarcastic_op = data.loc[(data['article_link'].str.contains('theonion.com')) & (data['is_sarcastic'] == 1)].shape[0]\n",
    "not_sarcastic_op = data.loc[(data['article_link'].str.contains('theonion.com')) & (data['is_sarcastic'] == 0)].shape[0]\n",
    "\n",
    "display(pd.DataFrame([[is_sarcastic_hf, is_sarcastic_op], [not_sarcastic_hf, not_sarcastic_op]], \n",
    "                     columns = ['huffingtonpost', 'theonion'], index = ['Sarcastic', 'Non-sarcastic']))"
   ]
  },
  {
   "cell_type": "code",
   "execution_count": 9,
   "metadata": {},
   "outputs": [
    {
     "name": "stdout",
     "output_type": "stream",
     "text": [
      "------------------------------------------------------------\n",
      "Checking 5 random headlines and labels from the data\n",
      "------------------------------------------------------------\n",
      "Headline: celebrities are freaking out as election results roll in\n",
      "label: 0\n",
      "\n",
      "Headline: federal judge pencils blocking trump's unconstitutional executive orders into monthly schedule\n",
      "label: 1\n",
      "\n",
      "Headline: résumé accidentally kept on file\n",
      "label: 1\n",
      "\n",
      "Headline: gaunt, hollow-eyed big bird enters sixth day of hunger strike against proposed trump budget\n",
      "label: 1\n",
      "\n",
      "Headline: clinton tosses unpledged superdelegate in trunk of car\n",
      "label: 1\n",
      "\n"
     ]
    }
   ],
   "source": [
    "# Checking 5 random headlines and labels from the data\n",
    "print('--'*30); print('Checking 5 random headlines and labels from the data'); print('--'*30)\n",
    "rands = random.sample(range(1, data.shape[0]), 5)\n",
    "headlines, labels = list(data.loc[rands, 'headline']), list(data.loc[rands, 'is_sarcastic'])\n",
    "\n",
    "_ = [print(f'Headline: {head}\\nlabel: {label}\\n') for head, label in zip(headlines, labels)]"
   ]
  },
  {
   "cell_type": "code",
   "execution_count": 10,
   "metadata": {},
   "outputs": [
    {
     "name": "stdout",
     "output_type": "stream",
     "text": [
      "------------------------------------------------------------\n",
      "Checking 5 random headlines and labels from the data where the length of headline is > 100\n",
      "------------------------------------------------------------\n",
      "Headline: 'new york times' moves all content you won't give a shit about unless you make at least $200k a year into one convenient section\n",
      "label: 1\n",
      "\n",
      "Headline: nutritious lunch brought from home broadcasts middle-aged coworker's recent health scare loud and clear\n",
      "label: 1\n",
      "\n",
      "Headline: report: majority of mothers would drop kids off at warehouse called 'fun zone' for hour of free time, no questions asked\n",
      "label: 1\n",
      "\n",
      "Headline: bound, gagged joaquin castro horrified by what his identical twin brother might be doing out on dnc floor\n",
      "label: 1\n",
      "\n",
      "Headline: nbc on olympics coverage: 'sorry we didn't alter the laws of space and time to accommodate people's schedules'\n",
      "label: 1\n",
      "\n",
      "------------------------------------------------------------\n",
      "Distributon of label where the length of headline is > 100\n",
      "------------------------------------------------------------\n"
     ]
    },
    {
     "data": {
      "image/png": "[encoded data removed]",
      "text/plain": [
       "<Figure size 720x432 with 1 Axes>"
      ]
     },
     "metadata": {},
     "output_type": "display_data"
    }
   ],
   "source": [
    "# Checking 5 random headlines and labels from the data where the length of headline is > 100\n",
    "print('--'*30); print('Checking 5 random headlines and labels from the data where the length of headline is > 100'); print('--'*30)\n",
    "indexes = list(data.loc[data['headline'].str.len() > 100, 'headline'].index)\n",
    "rands = random.sample(indexes, 5)\n",
    "headlines, labels = list(data.loc[rands, 'headline']), list(data.loc[rands, 'is_sarcastic'])\n",
    "\n",
    "_ = [print(f'Headline: {head}\\nlabel: {label}\\n') for head, label in zip(headlines, labels)]\n",
    "\n",
    "print('--'*30); print('Distributon of label where the length of headline is > 100'); print('--'*30)\n",
    "_ = data.loc[indexes, 'is_sarcastic'].value_counts().plot(kind = 'pie', autopct = '%.0f%%', labels = ['Sarcastic', 'Non-sarcastic'], figsize = (10, 6))"
   ]
  },
  {
   "cell_type": "markdown",
   "metadata": {},
   "source": [
    "### Observation\n",
    "\n",
    "* 44% of the data have sarcastic labels whereas 56% don't.\n",
    "* There are no headlines from HuffPost that are sarcastic whereas all but one from The Onion are sarcastic.\n",
    "* Based on some random headlines seen above, it appears that the data is mostly lower-cased. Pre-processing such as removing punctuations and lemmatization can be used.\n",
    "* There are digits in the headlines for e.g. 3 things i needed to hear when i weighed 300 pounds where removing the digits wouldn't help.\n",
    "* 83% of data where length of sentence (headlines) > 100 are sarcastic headlines."
   ]
  },
  {
   "cell_type": "markdown",
   "metadata": {},
   "source": [
    "## Dropping irrelevant columns\n",
    "\n",
    "Drop article_link from dataset"
   ]
  },
  {
   "cell_type": "code",
   "execution_count": 11,
   "metadata": {},
   "outputs": [
    {
     "name": "stdout",
     "output_type": "stream",
     "text": [
      "Dropping `article_link` from the data\n",
      "------------------------------------------------------------\n"
     ]
    }
   ],
   "source": [
    "print('Dropping `article_link` from the data'); print('--'*30)\n",
    "data.drop('article_link', axis = 1, inplace = True)"
   ]
  },
  {
   "cell_type": "markdown",
   "metadata": {},
   "source": [
    "## Data Preprocessing\n",
    "Few of the data pre-processing steps taken before applying model on the data\n",
    "\n",
    "1. Converting to lower case, avoid any capital cases\n",
    "2. Converting apostrophe to the standard lexicons\n",
    "3. Removing punctuations\n",
    "4. Lemmatization"
   ]
  },
  {
   "cell_type": "code",
   "execution_count": 12,
   "metadata": {},
   "outputs": [
    {
     "name": "stderr",
     "output_type": "stream",
     "text": [
      "[nltk_data] Downloading package averaged_perceptron_tagger to\n",
      "[nltk_data]     C:\\Users\\pratmish\\AppData\\Roaming\\nltk_data...\n",
      "[nltk_data]   Unzipping taggers\\averaged_perceptron_tagger.zip.\n"
     ]
    }
   ],
   "source": [
    "nltk.download('averaged_perceptron_tagger')\n",
    "\n",
    "appos = {\"ain't\": \"am not\", \"aren't\": \"are not\", \"can't\": \"cannot\", \n",
    "         \"can't've\": \"cannot have\", \"'cause\": \"because\", \n",
    "         \"could've\": \"could have\", \"couldn't\": \"could not\", \n",
    "         \"couldn't've\": \"could not have\", \"didn't\": \"did not\", \n",
    "         \"doesn't\": \"does not\", \"don't\": \"do not\", \"hadn't\": \"had not\", \n",
    "         \"hadn't've\": \"had not have\", \"hasn't\": \"has not\", \n",
    "         \"haven't\": \"have not\", \"he'd\": \"he would\", \"he'd've\": \"he would have\", \n",
    "         \"he'll\": \"he will\", \"he'll've\": \"he will have\", \n",
    "         \"he's\": \"he is\", \"how'd\": \"how did\", \n",
    "         \"how'd'y\": \"how do you\", \"how'll\": \"how will\", \"how's\": \"how is\",\n",
    "         \"I'd\": \"I would\", \"I'd've\": \"I would have\", \"I'll\": \"I will\", \n",
    "         \"I'll've\": \"I will have\", \"I'm\": \"I am\", \"I've\": \"I have\", \n",
    "         \"isn't\": \"is not\", \"it'd\": \"it would\", \"it'd've\": \"it would have\", \n",
    "         \"it'll\": \"it will\", \"it'll've\": \"it will have\", \"it's\": \"it is\", \n",
    "         \"let's\": \"let us\", \"ma'am\": \"madam\", \"mayn't\": \"may not\", \n",
    "         \"might've\": \"might have\", \"mightn't\": \"might not\", \n",
    "         \"mightn't've\": \"might not have\", \"must've\": \"must have\", \n",
    "         \"mustn't\": \"must not\", \"mustn't've\": \"must not have\", \n",
    "         \"needn't\": \"need not\", \"needn't've\": \"need not have\",\n",
    "         \"o'clock\": \"of the clock\", \"oughtn't\": \"ought not\", \n",
    "         \"oughtn't've\": \"ought not have\", \"shan't\": \"shall not\", \n",
    "         \"sha'n't\": \"shall not\", \"shan't've\": \"shall not have\", \n",
    "         \"she'd\": \"she would\", \"she'd've\": \"she would have\", \n",
    "         \"she'll\": \"she will\", \"she'll've\": \"she will have\",\n",
    "         \"she's\": \"she is\", \"should've\": \"should have\", \n",
    "         \"shouldn't\": \"should not\", \"shouldn't've\": \"should not have\", \n",
    "         \"so've\": \"so have\", \"so's\": \"so is\", \n",
    "         \"that'd\": \"that had\", \"that'd've\": \"that would have\", \n",
    "         \"that's\": \"that that is\", \"there'd\": \"there would\", \n",
    "         \"there'd've\": \"there would have\", \"there's\": \"there is\", \n",
    "         \"they'd\": \"they would\", \"they'd've\": \"they would have\", \n",
    "         \"they'll\": \"they will\", \"they'll've\": \"they will have\", \n",
    "         \"they're\": \"they are\", \"they've\": \"they have\", \n",
    "         \"to've\": \"to have\", \"wasn't\": \"was not\", \"we'd\": \"we would\", \n",
    "         \"we'd've\": \"we would have\", \"we'll\": \"we will\", \n",
    "         \"we'll've\": \"we will have\", \"we're\": \"we are\", \n",
    "         \"we've\": \"we have\", \"weren't\": \"were not\", \n",
    "         \"what'll\": \"what will\", \"what'll've\": \"what will have\", \n",
    "         \"what're\": \"what are\", \"what's\": \"what is\", \n",
    "         \"what've\": \"what have\", \"when's\": \"when is\", \n",
    "         \"when've\": \"when have\", \"where'd\": \"where did\", \n",
    "         \"where's\": \"where is\", \"where've\": \"where have\", \n",
    "         \"who'll\": \"who will\", \"who'll've\": \"who will have\", \n",
    "         \"who's\": \"who is\", \"who've\": \"who have\", \n",
    "         \"why's\": \"why is\", \"why've\": \"why have\", \"will've\": \"will have\", \n",
    "         \"won't\": \"will not\", \"won't've\": \"will not have\",\n",
    "         \"would've\": \"would have\", \"wouldn't\": \"would not\", \n",
    "         \"wouldn't've\": \"would not have\", \"y'all\": \"you all\", \n",
    "         \"y'all'd\": \"you all would\", \"y'all'd've\": \"you all would have\", \n",
    "         \"y'all're\": \"you all are\", \"y'all've\": \"you all have\", \n",
    "         \"you'd\": \"you would\", \"you'd've\": \"you would have\",\n",
    "         \"you'll\": \"you will\", \"you'll've\": \"you will have\", \n",
    "         \"you're\": \"you are\", \"you've\": \"you have\"}"
   ]
  },
  {
   "cell_type": "code",
   "execution_count": 13,
   "metadata": {},
   "outputs": [],
   "source": [
    "# Helper function to replace appos\n",
    "def replace_words(headline):\n",
    "    cleaned_headlines = []\n",
    "    for word in str(headline).split():\n",
    "        if word.lower() in appos.keys():\n",
    "            cleaned_headlines.append(appos[word.lower()])\n",
    "        else:\n",
    "            cleaned_headlines.append(word)\n",
    "    return ' '.join(cleaned_headlines)\n",
    "\n",
    "# Helper function to remove punctuations\n",
    "PUNCT_TO_REMOVE = '!\"#$%&\\'()*+,-./:;<=>?@[\\\\]^_`{|}~' #string.punctuation\n",
    "def remove_punctuation(text):\n",
    "    \"\"\"function to remove the punctuation\"\"\"\n",
    "    return text.translate(str.maketrans('', '', PUNCT_TO_REMOVE))\n",
    "\n",
    "# Helper function to lemmatize\n",
    "lemmatizer = WordNetLemmatizer()\n",
    "def lemmatize(text):\n",
    "    return ''.join([lemmatizer.lemmatize(word) for word in text])\n",
    "\n",
    "# Helper function to remove stopwords\n",
    "stoplist = set(stopwords.words('english'))\n",
    "stoplist.remove('not')\n",
    "def remove_stopwords(text):\n",
    "    \"\"\"function to remove the stopwords\"\"\"\n",
    "    return \" \".join([word for word in str(text).split() if word not in stoplist])\n",
    "\n",
    "# Helper function for wordcloud\n",
    "def plot_wordcloud(text, mask = None, max_words = 500, max_font_size = 40, \n",
    "                   figure_size = (12, 6), title = None, title_size = 15):\n",
    "    wordcloud = WordCloud(background_color = 'white', max_words = max_words,\n",
    "                          random_state = 42, width = 350, height = 150, \n",
    "                          mask = mask, stopwords = stoplist, collocations = False)\n",
    "    wordcloud.generate(str(text))\n",
    "    \n",
    "    plt.figure(figsize = figure_size)\n",
    "    plt.imshow(wordcloud, interpolation = 'bilinear');\n",
    "    plt.title(title, fontdict = {'size': title_size, 'color': 'black', \n",
    "                               'verticalalignment': 'bottom'})\n",
    "    plt.axis('off');\n",
    "    plt.tight_layout()\n",
    "\n",
    "# Second helper function for lemmatizing\n",
    "lemmatizer = WordNetLemmatizer()\n",
    "def lem(text):\n",
    "    pos_dict = {'N': wn.NOUN, 'V': wn.VERB, 'J': wn.ADJ, 'R': wn.ADV}\n",
    "    return(' '.join([lemmatizer.lemmatize(w,pos_dict.get(t, wn.NOUN)) for w,t in nltk.pos_tag(text.split())]))"
   ]
  },
  {
   "cell_type": "code",
   "execution_count": 14,
   "metadata": {},
   "outputs": [
    {
     "name": "stdout",
     "output_type": "stream",
     "text": [
      "------------------------------------------------------------\n",
      "Converting headlines to lower case\n",
      "Replacing apostrophes to the standard lexicons\n",
      "Removing punctuations\n",
      "Applying Lemmatizer\n",
      "Removing multiple spaces between words\n",
      "------------------------------------------------------------\n"
     ]
    }
   ],
   "source": [
    "print('--'*30)\n",
    "print('Converting headlines to lower case')\n",
    "data['cleaned_headline'] = data['headline'].apply(lambda x : x.lower())\n",
    "\n",
    "print('Replacing apostrophes to the standard lexicons')\n",
    "data['cleaned_headline'] = data['cleaned_headline'].apply(lambda x : replace_words(x))\n",
    "\n",
    "print('Removing punctuations')\n",
    "data['cleaned_headline'] = data['cleaned_headline'].apply(lambda x: remove_punctuation(x))\n",
    "\n",
    "print('Applying Lemmatizer')\n",
    "data['cleaned_headline'] = data['cleaned_headline'].apply(lambda x: lem(x))\n",
    "\n",
    "print('Removing multiple spaces between words')\n",
    "data['cleaned_headline'] = data['cleaned_headline'].apply(lambda x: re.sub(' +', ' ', x))\n",
    "\n",
    "print('--'*30)"
   ]
  },
  {
   "cell_type": "markdown",
   "metadata": {},
   "source": [
    "## Get the Length of each line and find the maximum length\n",
    "\n",
    "As different lines are of different length. We need to pad the our sequences using the max length."
   ]
  },
  {
   "cell_type": "code",
   "execution_count": 15,
   "metadata": {},
   "outputs": [
    {
     "name": "stdout",
     "output_type": "stream",
     "text": [
      "--------------------------------------------------------------------------------\n",
      "Get the length of each line, find the maximum length and print the maximum length line\n",
      "Length of line ranges from 7 to 241.\n",
      "--------------------------------------------------------------------------------\n",
      "Minimum line length: 7\n",
      "Maximum line length: 241\n",
      "Line with maximum length: maya angelou poet author civil right activist and—holy cow—tony award–nominated actress college professor magazine editor streetcar conductor—really streetcar conductor wow—calypso singer nightclub performer and foreign journalist dead at 86\n"
     ]
    }
   ],
   "source": [
    "print('--'*40); print('Get the length of each line, find the maximum length and print the maximum length line'); \n",
    "print('Length of line ranges from 7 to 241.'); print('--'*40)\n",
    "# Get length of each line\n",
    "data['line_length'] = data['cleaned_headline'].str.len()\n",
    "\n",
    "print('Minimum line length: {}'.format(data['line_length'].min()))\n",
    "print('Maximum line length: {}'.format(data['line_length'].max()))\n",
    "print('Line with maximum length: {}'.format(data[data['line_length'] == data['line_length'].max()]['cleaned_headline'].values[0]))"
   ]
  },
  {
   "cell_type": "code",
   "execution_count": 16,
   "metadata": {},
   "outputs": [
    {
     "name": "stdout",
     "output_type": "stream",
     "text": [
      "--------------------------------------------------------------------------------\n",
      "Get the number of words, find the maximum number of words and print the maximum number of words\n",
      "Number of words ranges from 2 to 39.\n",
      "--------------------------------------------------------------------------------\n",
      "Minimum number of words: 2\n",
      "Maximum number of words: 39\n",
      "Line with maximum number of words: elmore leonard modern prose master noted for his terse prose style and for writing about thing perfectly and succinctly with a remarkable economy of word unfortunately and sadly expired this gloomy tuesday at the age of 87 year old\n"
     ]
    }
   ],
   "source": [
    "print('--'*40); print('Get the number of words, find the maximum number of words and print the maximum number of words'); \n",
    "print('Number of words ranges from 2 to 39.'); print('--'*40)\n",
    "# Get length of each line\n",
    "data['nb_words'] = data['cleaned_headline'].apply(lambda x: len(x.split(' ')))\n",
    "\n",
    "print('Minimum number of words: {}'.format(data['nb_words'].min()))\n",
    "print('Maximum number of words: {}'.format(data['nb_words'].max()))\n",
    "print('Line with maximum number of words: {}'.format(data[data['nb_words'] == data['nb_words'].max()]['cleaned_headline'].values[0]))"
   ]
  },
  {
   "cell_type": "markdown",
   "metadata": {},
   "source": [
    "## Modelling"
   ]
  },
  {
   "cell_type": "code",
   "execution_count": 17,
   "metadata": {},
   "outputs": [
    {
     "name": "stdout",
     "output_type": "stream",
     "text": [
      "------------------------------------------------------------\n",
      "Five point summary for number of words\n"
     ]
    },
    {
     "data": {
      "text/plain": [
       "count    26709\n",
       "mean        10\n",
       "std          3\n",
       "min          2\n",
       "25%          8\n",
       "50%         10\n",
       "75%         12\n",
       "max         39\n",
       "Name: nb_words, dtype: int32"
      ]
     },
     "metadata": {},
     "output_type": "display_data"
    },
    {
     "name": "stdout",
     "output_type": "stream",
     "text": [
      "99% quantilie: 18.0\n",
      "------------------------------------------------------------\n"
     ]
    }
   ],
   "source": [
    "print('--'*30); print('Five point summary for number of words')\n",
    "display(data['nb_words'].describe().round(0).astype(int)); \n",
    "\n",
    "print('99% quantilie: {}'.format(data['nb_words'].quantile(0.99)));print('--'*30)"
   ]
  },
  {
   "cell_type": "markdown",
   "metadata": {},
   "source": [
    "### Define parameters"
   ]
  },
  {
   "cell_type": "code",
   "execution_count": 18,
   "metadata": {},
   "outputs": [],
   "source": [
    "max_features = 10000\n",
    "maxlen = data['nb_words'].max()\n",
    "embedding_size = 200"
   ]
  },
  {
   "cell_type": "markdown",
   "metadata": {},
   "source": [
    "### Tokenization"
   ]
  },
  {
   "cell_type": "code",
   "execution_count": 19,
   "metadata": {},
   "outputs": [],
   "source": [
    "tokenizer = Tokenizer(num_words = max_features)\n",
    "tokenizer.fit_on_texts(list(data['cleaned_headline']))"
   ]
  },
  {
   "cell_type": "markdown",
   "metadata": {},
   "source": [
    "### Get X and y "
   ]
  },
  {
   "cell_type": "code",
   "execution_count": 20,
   "metadata": {},
   "outputs": [
    {
     "name": "stdout",
     "output_type": "stream",
     "text": [
      "Number of Samples: 26709\n",
      "Number of Labels: 26709\n",
      "\n",
      "First headline:\n",
      "[   0    0    0    0    0    0    0    0    0    0    0    0    0    0\n",
      "    0    0    0    0    0    0    0    0    0    0    0    0    0    0\n",
      "  327  686 2924 1254   54  291  107 1915    6 2014 3610]\n",
      "\n",
      "Label of the first headline: 0\n"
     ]
    }
   ],
   "source": [
    "X = tokenizer.texts_to_sequences(data['cleaned_headline'])\n",
    "X = pad_sequences(X, maxlen = maxlen)\n",
    "y = np.asarray(data['is_sarcastic'])\n",
    "\n",
    "print(f'Number of Samples: {len(X)}')\n",
    "print(f'Number of Labels: {len(y)}')\n",
    "print(f'\\nFirst headline:\\n{X[0]}\\n\\nLabel of the first headline: {y[0]}')"
   ]
  },
  {
   "cell_type": "markdown",
   "metadata": {},
   "source": [
    "### Get the Vocabulary size"
   ]
  },
  {
   "cell_type": "code",
   "execution_count": 21,
   "metadata": {},
   "outputs": [
    {
     "name": "stdout",
     "output_type": "stream",
     "text": [
      "Number of unique tokens: 24962\n"
     ]
    }
   ],
   "source": [
    "# Reserve padding (indexed zero)\n",
    "w2i = tokenizer.word_index\n",
    "vocab_size = len(w2i) + 1\n",
    "print(f'Number of unique tokens: {vocab_size}')"
   ]
  },
  {
   "cell_type": "markdown",
   "metadata": {},
   "source": [
    "### Word Embedding"
   ]
  },
  {
   "cell_type": "markdown",
   "metadata": {},
   "source": [
    "#### Get Word Embeddings"
   ]
  },
  {
   "cell_type": "code",
   "execution_count": 24,
   "metadata": {},
   "outputs": [],
   "source": [
    "EMBEDDING_FILE = 'glove.6B.200d.txt'\n",
    "\n",
    "embeddings = {}\n",
    "for o in open(EMBEDDING_FILE, encoding=\"utf8\"):\n",
    "    word = o.split(' ')[0]\n",
    "    embd = o.split(' ')[1:]\n",
    "    embd = np.asarray(embd, dtype = 'float32')\n",
    "    embeddings[word] = embd"
   ]
  },
  {
   "cell_type": "markdown",
   "metadata": {},
   "source": [
    "#### Create a weight matrix"
   ]
  },
  {
   "cell_type": "code",
   "execution_count": 25,
   "metadata": {},
   "outputs": [
    {
     "data": {
      "text/plain": [
       "400000"
      ]
     },
     "execution_count": 25,
     "metadata": {},
     "output_type": "execute_result"
    }
   ],
   "source": [
    "# Getting the minimum number of words\n",
    "num_words = min(max_features, vocab_size) + 1\n",
    "\n",
    "embedding_matrix = np.zeros((num_words, embedding_size))\n",
    "for word, i in tokenizer.word_index.items():\n",
    "    if i > max_features: continue\n",
    "    embedding_vector = embeddings.get(word)\n",
    "    if embedding_vector is not None:\n",
    "        embedding_matrix[i] = embedding_vector\n",
    "\n",
    "len(embeddings.values())"
   ]
  },
  {
   "cell_type": "markdown",
   "metadata": {},
   "source": [
    "## Define and train the model\n",
    "\n",
    "Steps/layers:\n",
    "\n",
    "1. Split the data into train, valid and test set so that it's easy to compare and evaluate\n",
    "2. Use Sequential model instance\n",
    "3. Add Embedding layer\n",
    "4. Bidirectional(LSTM) layer\n",
    "5. GlobalMaxPool1D layer\n",
    "6. Dense, dropout layers\n",
    "7. Add a final dense layer with sigmoid activation for binary classification"
   ]
  },
  {
   "cell_type": "code",
   "execution_count": 27,
   "metadata": {},
   "outputs": [
    {
     "name": "stdout",
     "output_type": "stream",
     "text": [
      "------------------------------------------------------------ \n",
      "Number of rows in training dataset: 21367\n",
      "Number of columns in training dataset: 39\n",
      "Number of unique words in training dataset: 9953\n",
      "------------------------------------------------------------ \n",
      "Number of rows in test dataset: 5342\n",
      "Number of columns in test dataset: 39\n",
      "Number of unique words in test dataset: 7330\n"
     ]
    }
   ],
   "source": [
    "X_train, X_test, y_train, y_test = train_test_split(X, y, test_size = 0.2, random_state = 1, shuffle = True)\n",
    "\n",
    "print('---'*20, f'\\nNumber of rows in training dataset: {X_train.shape[0]}')\n",
    "print(f'Number of columns in training dataset: {X_train.shape[1]}')\n",
    "print(f'Number of unique words in training dataset: {len(np.unique(np.hstack(X_train)))}')\n",
    "\n",
    "print('---'*20, f'\\nNumber of rows in test dataset: {X_test.shape[0]}')\n",
    "print(f'Number of columns in test dataset: {X_test.shape[1]}')\n",
    "print(f'Number of unique words in test dataset: {len(np.unique(np.hstack(X_test)))}')"
   ]
  },
  {
   "cell_type": "code",
   "execution_count": 28,
   "metadata": {},
   "outputs": [
    {
     "name": "stdout",
     "output_type": "stream",
     "text": [
      "Model: \"sequential\"\n",
      "_________________________________________________________________\n",
      "Layer (type)                 Output Shape              Param #   \n",
      "=================================================================\n",
      "embedding (Embedding)        (None, 39, 200)           2000200   \n",
      "_________________________________________________________________\n",
      "bidirectional (Bidirectional (None, 39, 256)           336896    \n",
      "_________________________________________________________________\n",
      "global_max_pooling1d (Global (None, 256)               0         \n",
      "_________________________________________________________________\n",
      "dropout (Dropout)            (None, 256)               0         \n",
      "_________________________________________________________________\n",
      "dense (Dense)                (None, 128)               32896     \n",
      "_________________________________________________________________\n",
      "dropout_1 (Dropout)          (None, 128)               0         \n",
      "_________________________________________________________________\n",
      "dense_1 (Dense)              (None, 64)                8256      \n",
      "_________________________________________________________________\n",
      "dropout_2 (Dropout)          (None, 64)                0         \n",
      "_________________________________________________________________\n",
      "dense_2 (Dense)              (None, 1)                 65        \n",
      "=================================================================\n",
      "Total params: 2,378,313\n",
      "Trainable params: 378,113\n",
      "Non-trainable params: 2,000,200\n",
      "_________________________________________________________________\n",
      "None\n"
     ]
    }
   ],
   "source": [
    "## creating the model architecture\n",
    "model = Sequential()\n",
    "model.add(Embedding(num_words, embedding_size, embeddings_initializer = Constant(embedding_matrix), input_length = maxlen, trainable = False))\n",
    "model.add(Bidirectional(LSTM(128, return_sequences = True)))\n",
    "model.add(GlobalMaxPool1D())\n",
    "model.add(Dropout(0.5, input_shape = (256,)))\n",
    "model.add(Dense(128, activation = 'relu'))\n",
    "model.add(Dropout(0.5, input_shape = (128,)))\n",
    "model.add(Dense(64, activation = 'relu'))\n",
    "model.add(Dropout(0.5, input_shape = (64,)))\n",
    "model.add(Dense(1, activation = 'sigmoid'))\n",
    "\n",
    "model.compile(loss = 'binary_crossentropy', optimizer = 'adam', metrics = ['accuracy'])\n",
    "\n",
    "# Adding callbacks\n",
    "es = EarlyStopping(monitor = 'val_loss', mode = 'min', verbose = 1, patience = 10)  \n",
    "mc = ModelCheckpoint('sarcasm_detector.h5', monitor = 'val_loss', mode = 'min', save_best_only = True, verbose = 1)\n",
    "lr_r = ReduceLROnPlateau(monitor = 'val_loss', factor = 0.1, patience = 5),\n",
    "logdir = 'log'; tb = TensorBoard(logdir, histogram_freq = 1)\n",
    "callbacks = [es, mc, lr_r, tb]\n",
    "\n",
    "print(model.summary())"
   ]
  },
  {
   "cell_type": "code",
   "execution_count": 30,
   "metadata": {},
   "outputs": [
    {
     "name": "stdout",
     "output_type": "stream",
     "text": [
      "Epoch 1/6\n",
      "171/171 - 32s - loss: 0.6020 - accuracy: 0.6635 - val_loss: 0.4620 - val_accuracy: 0.7815\n",
      "\n",
      "Epoch 00001: val_loss improved from inf to 0.46201, saving model to sarcasm_detector.h5\n",
      "Epoch 2/6\n",
      "171/171 - 29s - loss: 0.4461 - accuracy: 0.8027 - val_loss: 0.3903 - val_accuracy: 0.8219\n",
      "\n",
      "Epoch 00002: val_loss improved from 0.46201 to 0.39027, saving model to sarcasm_detector.h5\n",
      "Epoch 3/6\n",
      "171/171 - 27s - loss: 0.3788 - accuracy: 0.8393 - val_loss: 0.3644 - val_accuracy: 0.8400\n",
      "\n",
      "Epoch 00003: val_loss improved from 0.39027 to 0.36441, saving model to sarcasm_detector.h5\n",
      "Epoch 4/6\n",
      "171/171 - 27s - loss: 0.3333 - accuracy: 0.8575 - val_loss: 0.3686 - val_accuracy: 0.8304\n",
      "\n",
      "Epoch 00004: val_loss did not improve from 0.36441\n",
      "Epoch 5/6\n",
      "171/171 - 28s - loss: 0.3014 - accuracy: 0.8758 - val_loss: 0.3515 - val_accuracy: 0.8376\n",
      "\n",
      "Epoch 00005: val_loss improved from 0.36441 to 0.35147, saving model to sarcasm_detector.h5\n",
      "Epoch 6/6\n",
      "171/171 - 28s - loss: 0.2737 - accuracy: 0.8908 - val_loss: 0.3417 - val_accuracy: 0.8554\n",
      "\n",
      "Epoch 00006: val_loss improved from 0.35147 to 0.34166, saving model to sarcasm_detector.h5\n"
     ]
    }
   ],
   "source": [
    "batch_size = 100\n",
    "epochs = 6\n",
    "\n",
    "history = model.fit(X_train, y_train, epochs = epochs, validation_split = 0.2, batch_size = batch_size, verbose = 2, callbacks = callbacks)"
   ]
  },
  {
   "cell_type": "markdown",
   "metadata": {},
   "source": [
    "## Model Evaluation"
   ]
  },
  {
   "cell_type": "code",
   "execution_count": 31,
   "metadata": {},
   "outputs": [
    {
     "name": "stdout",
     "output_type": "stream",
     "text": [
      "Overall Accuracy: 86.0\n"
     ]
    }
   ],
   "source": [
    "loss, accuracy = model.evaluate(X_test, y_test, verbose = 0)\n",
    "print('Overall Accuracy: {}'.format(round(accuracy * 100, 0)))"
   ]
  },
  {
   "cell_type": "code",
   "execution_count": 33,
   "metadata": {},
   "outputs": [
    {
     "name": "stdout",
     "output_type": "stream",
     "text": [
      "Classification Report:\n",
      "              precision    recall  f1-score   support\n",
      "\n",
      "           0       0.87      0.88      0.87      2987\n",
      "           1       0.84      0.83      0.84      2355\n",
      "\n",
      "   micro avg       0.86      0.86      0.86      5342\n",
      "   macro avg       0.85      0.85      0.85      5342\n",
      "weighted avg       0.86      0.86      0.86      5342\n",
      "\n"
     ]
    }
   ],
   "source": [
    "y_pred = (model.predict(X_test) > 0.5).astype('int32')\n",
    "print(f'Classification Report:\\n{classification_report(y_pred, y_test)}')"
   ]
  },
  {
   "cell_type": "code",
   "execution_count": 34,
   "metadata": {},
   "outputs": [
    {
     "name": "stdout",
     "output_type": "stream",
     "text": [
      "------------------------------------------------------------\n",
      "Confusion Matrix\n"
     ]
    },
    {
     "data": {
      "text/html": [
       "<div>\n",
       "<style scoped>\n",
       "    .dataframe tbody tr th:only-of-type {\n",
       "        vertical-align: middle;\n",
       "    }\n",
       "\n",
       "    .dataframe tbody tr th {\n",
       "        vertical-align: top;\n",
       "    }\n",
       "\n",
       "    .dataframe thead th {\n",
       "        text-align: right;\n",
       "    }\n",
       "</style>\n",
       "<table border=\"1\" class=\"dataframe\">\n",
       "  <thead>\n",
       "    <tr style=\"text-align: right;\">\n",
       "      <th></th>\n",
       "      <th>Non-sarcastic</th>\n",
       "      <th>Sarcastic</th>\n",
       "    </tr>\n",
       "  </thead>\n",
       "  <tbody>\n",
       "    <tr>\n",
       "      <th>Non-sarcastic</th>\n",
       "      <td>2623</td>\n",
       "      <td>403</td>\n",
       "    </tr>\n",
       "    <tr>\n",
       "      <th>Sarcastic</th>\n",
       "      <td>364</td>\n",
       "      <td>1952</td>\n",
       "    </tr>\n",
       "  </tbody>\n",
       "</table>\n",
       "</div>"
      ],
      "text/plain": [
       "               Non-sarcastic  Sarcastic\n",
       "Non-sarcastic           2623        403\n",
       "Sarcastic                364       1952"
      ]
     },
     "metadata": {},
     "output_type": "display_data"
    },
    {
     "name": "stdout",
     "output_type": "stream",
     "text": [
      "------------------------------------------------------------\n"
     ]
    },
    {
     "data": {
      "image/png": "[encoded data removed]",
      "text/plain": [
       "<Figure size 576x360 with 2 Axes>"
      ]
     },
     "metadata": {
      "needs_background": "light"
     },
     "output_type": "display_data"
    }
   ],
   "source": [
    "print('--'*30); print('Confusion Matrix')\n",
    "cm = confusion_matrix(y_test, y_pred)\n",
    "cm = pd.DataFrame(cm , index = ['Non-sarcastic', 'Sarcastic'] , columns = ['Non-sarcastic','Sarcastic'])\n",
    "display(cm); print('--'*30)\n",
    "\n",
    "plt.figure(figsize = (8, 5))\n",
    "_ = sns.heatmap(cm, cmap= 'Blues', linecolor = 'black' , linewidth = 1 , annot = True, \n",
    "            fmt = '' , xticklabels = ['Non-sarcastic', 'Sarcastic'], \n",
    "            yticklabels = ['Non-sarcastic', 'Sarcastic']).set_title('Confusion Matrix')"
   ]
  },
  {
   "cell_type": "markdown",
   "metadata": {},
   "source": [
    "## Conclusion\n",
    "\n",
    "* We used data pre-processing techniques to clean headlines, such as:\n",
    "    * Converting to lower case\n",
    "    * Converting to standard lexicons such as it's to it is\n",
    "    * Remove punctuations\n",
    "    * Lemmatize\n",
    "    * Remove multiple spaces\n",
    "* Some of the observation:\n",
    "    * 44% of the data have sarcastic labels whereas 56% don't.\n",
    "    * There are no headlines from HuffPost that are sarcastic whereas all but one from The Onion are sarcastic.\n",
    "    * Based on some random headlines seen above, it appears that the data is mostly lower-cased. Pre-processing such as removing punctuations and lemmatization can be used.\n",
    "    * There are digits in the headlines for e.g. 3 things i needed to hear when i weighed 300 pounds where removing the digits wouldn't help.\n",
    "    * 83% of data where length of sentence (headlines) > 100 are sarcastic headlines.\n",
    "* Used Glove embedding layer with Bidirectional LSTM layer. Model architecture was also plotted. Also saw how we can use tensorboard to visualize the metrics such as loss and accuracy.\n",
    "* Created a separate training and test sets; while fitting the model kept aside a 0.2 for validation;\n",
    "* Model achieved 86% accuracy on the test set; classification report and confusion matrix were also printed.\n",
    "____________________________________"
   ]
  }
 ],
 "metadata": {
  "kernelspec": {
   "display_name": "Python 3",
   "language": "python",
   "name": "python3"
  },
  "language_info": {
   "codemirror_mode": {
    "name": "ipython",
    "version": 3
   },
   "file_extension": ".py",
   "mimetype": "text/x-python",
   "name": "python",
   "nbconvert_exporter": "python",
   "pygments_lexer": "ipython3",
   "version": "3.7.6"
  }
 },
 "nbformat": 4,
 "nbformat_minor": 4
}
